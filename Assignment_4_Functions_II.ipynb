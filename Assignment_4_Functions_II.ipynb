{
  "nbformat": 4,
  "nbformat_minor": 0,
  "metadata": {
    "colab": {
      "provenance": [],
      "collapsed_sections": [],
      "authorship_tag": "ABX9TyOC9HDRuA03Cs4KMSYuK6rd",
      "include_colab_link": true
    },
    "kernelspec": {
      "name": "python3",
      "display_name": "Python 3"
    },
    "language_info": {
      "name": "python"
    }
  },
  "cells": [
    {
      "cell_type": "markdown",
      "metadata": {
        "id": "view-in-github",
        "colab_type": "text"
      },
      "source": [
        "<a href=\"https://colab.research.google.com/github/faridelya/Pandas-Seaborn-Numpy/blob/main/Assignment_4_Functions_II.ipynb\" target=\"_parent\"><img src=\"https://colab.research.google.com/assets/colab-badge.svg\" alt=\"Open In Colab\"/></a>"
      ]
    },
    {
      "cell_type": "markdown",
      "source": [
        "# **Task 1:**\n",
        "Create a function that will calculate the amount of a tip if provided the cost of the meal\n",
        "and the tip percentage. (5 Points)"
      ],
      "metadata": {
        "id": "z_NZQ2UqFl4T"
      }
    },
    {
      "cell_type": "code",
      "execution_count": null,
      "metadata": {
        "id": "ADqS0767FcYA"
      },
      "outputs": [],
      "source": [
        "\n",
        "def tip_amount(cost_of_meal, tip_percent):\n",
        "\n",
        "    over_allpercent = 100 \n",
        "    bill =cost_of_meal\n",
        "    tip_amount = (bill * int(tip_percent))/int(over_allpercent)\n",
        "\n",
        "    print(\"\\nTip amount == {}\".format(tip_amount))\n",
        "\n",
        "    "
      ]
    },
    {
      "cell_type": "code",
      "source": [
        "tip_amount(1500, 15) # first argumnet is cost of meal and 2nd is tip percentage"
      ],
      "metadata": {
        "colab": {
          "base_uri": "https://localhost:8080/"
        },
        "id": "vH2k5cWGGkuI",
        "outputId": "96daa0e2-54d7-4f3e-efcb-5d39715c0c94"
      },
      "execution_count": null,
      "outputs": [
        {
          "output_type": "stream",
          "name": "stdout",
          "text": [
            "\n",
            "Tip amount == 225.0\n"
          ]
        }
      ]
    },
    {
      "cell_type": "markdown",
      "source": [
        "# **Task 2:** \n",
        "Create a function that will calculate the area of a cylinder if provided the cylinder’s\n",
        "radius and height. (5 Points)"
      ],
      "metadata": {
        "id": "vAwSgTe4JLKR"
      }
    },
    {
      "cell_type": "code",
      "source": [
        "import math\n",
        "def area_of_cylinder(radius,height ):\n",
        "    # print(\"Please enter radius of cylinder\")\n",
        "    # radius = int(input())\n",
        "    # print(\"Please enter height of cylinder\")\n",
        "    # height = int(input())\n",
        "    area = 2*math.pi+(radius*radius) + 2* math.pi* radius * height\n",
        "    print(\"\\nArea of cylinder is = {}\".format(round(area, 3)))"
      ],
      "metadata": {
        "id": "Unqv42dvGr0T"
      },
      "execution_count": null,
      "outputs": []
    },
    {
      "cell_type": "code",
      "source": [
        "area_of_cylinder(25,30)"
      ],
      "metadata": {
        "colab": {
          "base_uri": "https://localhost:8080/"
        },
        "id": "ErlF-ZKsOnEp",
        "outputId": "642b082a-e4b2-47ed-fa3c-8d00d90fa477"
      },
      "execution_count": null,
      "outputs": [
        {
          "output_type": "stream",
          "name": "stdout",
          "text": [
            "\n",
            "Area of cylinder is = 5343.672\n"
          ]
        }
      ]
    },
    {
      "cell_type": "markdown",
      "source": [
        "# **Task 3:**\n",
        "Create a function to convert between any of the following units for measuring pressure:\n",
        "Pascals (Pa), pounds per square inch (PSI), atmospheres (atm), and Torr. This will require using\n",
        "control flow. The function should accept arguments for Value, Input Units, and Output Units\n",
        "parameters. Test your function on an example pressure measurement. (10 Points)"
      ],
      "metadata": {
        "id": "ucKcuD_SPoZT"
      }
    },
    {
      "cell_type": "code",
      "source": [
        "def pressure_measurement( value_, inpt_unt, outpt_unt):\n",
        "    \n",
        "    inpt_unt = inpt_unt.lower()\n",
        "    outpt_unt = outpt_unt.lower()\n",
        "    if  inpt_unt==\"pa\" and outpt_unt == \"psi\":\n",
        "        print(\"\\n\\n Pascal converted to PSI\")\n",
        "        pascal = value_\n",
        "        one_pascal =  0.00014503773801 #psi\n",
        "        pa =pascal*one_pascal\n",
        "        print(pascal,\"pascal = {} PSI\".format(pa))\n",
        "    \n",
        "    elif inpt_unt==\"pa\" and outpt_unt == \"atm\":\n",
        "        print(\"\\n\\nPascal converted to atm\")\n",
        "        pascal = value_\n",
        "        one_pascal =  0.0000098692316931 # atm\n",
        "        atm =pascal*one_pascal\n",
        "        print(pascal,\"pascal = {} atm\".format(atm))\n",
        "    elif inpt_unt==\"pa\" and outpt_unt == \"torr\":\n",
        "        print(\"\\n\\nPascal converted to torr\")\n",
        "        pascal = value_\n",
        "        divide =  133.3223684# torr\n",
        "        torr =pascal/divide\n",
        "        print(pascal,\"pascal = {} torr\".format(round(torr,5)))\n",
        "        \n",
        "    elif inpt_unt==\"psi\" and outpt_unt == \"pa\":\n",
        "        print(\"\\n\\nPSI converted to pascal\")\n",
        "        psi = value_\n",
        "        one_psi =  6894.76 # equal to one pascal\n",
        "        pa = psi*one_psi\n",
        "        print(psi,\"PSI = {} pascal\".format(pa))\n",
        "\n",
        "    elif inpt_unt==\"psi\" and outpt_unt == \"atm\":\n",
        "        print(\"\\n\\nPSI converted to atm\")\n",
        "        psi = value_\n",
        "        one_psi =  0.068046 # equal to one atm\n",
        "        atm = psi*one_psi\n",
        "        print(psi,\"PSI = {} atm\".format(atm))\n",
        "        \n",
        "    elif inpt_unt==\"psi\" and outpt_unt == \"torr\":\n",
        "        print(\"\\n\\nPSI converted to torr\")\n",
        "        psi = value_\n",
        "        one_psi = 51.7149 # torr\n",
        "        torr =psi*one_psi\n",
        "        print(psi,\"pascal = {} torr\".format(torr))\n",
        "        \n",
        "    elif inpt_unt==\"atm\" and outpt_unt == \"pa\":\n",
        "        print(\"\\n\\natm converted to pascal\")\n",
        "        atm = value_\n",
        "        one_atm =  101325 # equal to pascal\n",
        "        pa =atm*one_atm\n",
        "        print(atm,\"atm = {} pascal\".format(pa))\n",
        "\n",
        "    elif inpt_unt==\"atm\" and outpt_unt == \"psi\":\n",
        "        print(\"\\n\\natm converted to PSI\")\n",
        "        atm = value_\n",
        "        one_psi =  14.6959 # equal to pascal\n",
        "        psi=atm*one_psi\n",
        "        print(atm,\"atm = {} PSI\".format(psi))\n",
        "\n",
        "    elif inpt_unt==\"atm\" and outpt_unt == \"torr\":\n",
        "        print(\"\\n\\natm converted to torr\")\n",
        "        atm = value_\n",
        "        one_psi =  51.7149 # torr\n",
        "        torr =psi*one_psi\n",
        "        print(atm,\"atm = {} torr\".format(torr))\n",
        "\n",
        "    elif inpt_unt==\"torr\" and outpt_unt == \"pa\":\n",
        "        print(\"\\n\\nEnter torr converted to pascal\")\n",
        "        torr = value_\n",
        "        one_pa =  101325 # equal to pascal\n",
        "        pa =torr*one_pa\n",
        "        print(torr,\"torr = {} pascal\".format(pa))\n",
        "\n",
        "    elif inpt_unt==\"tor\" and outpt_unt == \"psi\":\n",
        "        print(\"\\n\\ntorr converted to PSI\")\n",
        "        torr = value_\n",
        "        one_psi =  0.0193368# equal to pascal\n",
        "        psi =torr*one_psi\n",
        "        print(torr,\"torr = {} PSI\".format(psi))\n",
        "\n",
        "    else:\n",
        "        print(\"\\n\\ntorr converted to atm\")\n",
        "        torr = int(input())\n",
        "        one_atm = 0.00131579# equal to pascal\n",
        "        atm =torr*one_atm\n",
        "        print(torr,\"torr = {} atm\".format(atm))"
      ],
      "metadata": {
        "id": "CJ5pgsoy0cd1"
      },
      "execution_count": null,
      "outputs": []
    },
    {
      "cell_type": "code",
      "source": [
        "pressure_measurement(6500,\"pa\",\"Torr\")  # first argument  value  2nd is input unit  and 3rd is ouput unit"
      ],
      "metadata": {
        "colab": {
          "base_uri": "https://localhost:8080/"
        },
        "id": "Y6-qQO8u7BSO",
        "outputId": "b47848a8-1c35-4630-9d71-73432e0a0fb1"
      },
      "execution_count": null,
      "outputs": [
        {
          "output_type": "stream",
          "name": "stdout",
          "text": [
            "\n",
            "\n",
            "Pascal converted to torr\n",
            "6500 pascal = 48.75401 torr\n"
          ]
        }
      ]
    },
    {
      "cell_type": "code",
      "source": [
        "def unit_conversion():\n",
        "    print(\"-----chose any conversion-----\\n\")\n",
        "    print(\"pascal to PSI -- select  0\\nPascal to atm -- select  1\\npascal to torr -- select  2\\n\")\n",
        "    print(\"PSI to pascal  -- select  3\\nPSI to atm  -- select  4\\nPSI to torr -- select  5\\n \")\n",
        "    print(\"atm to pascal  -- select  6\\natm to PSI  -- select  7\\natm to torr -- select  8\\n \")\n",
        "    print(\"torr to pascal  -- select  9\\ntorr to PSI  -- select  10\\ntorr to atm -- select  11\\n\")\n",
        "    select = int(input())\n",
        "    if select == 0:\n",
        "        print(\"\\n\\nEnter Pascal to convert to PSI\")\n",
        "        pascal = int(input())\n",
        "        one_pascal =  0.00014503773801 #psi\n",
        "        pa =pascal*one_pascal\n",
        "        print(pascal,\"pascal = {} PSI\".format(pa))\n",
        "    \n",
        "    elif select == 1:\n",
        "        print(\"\\n\\nEnter Pascal to convert to atm\")\n",
        "        pascal = int(input())\n",
        "        one_pascal =  0.0000098692316931 # atm\n",
        "        atm =pascal*one_pascal\n",
        "        print(pascal,\"pascal = {} atm\".format(atm))\n",
        "    elif select == 2:\n",
        "        print(\"\\n\\nEnter Pascal to convert to torr\")\n",
        "        pascal = int(input())\n",
        "        one_pascal =  0.00750062# torr\n",
        "        torr =pascal*one_pascal\n",
        "        print(pascal,\"pascal = {} torr\".format(torr))\n",
        "        \n",
        "    elif select == 3:\n",
        "        print(\"\\n\\nEnter PSI to convert to pascal\")\n",
        "        psi = int(input())\n",
        "        one_psi =  6894.76 # equal to one pascal\n",
        "        pa = psi*one_psi\n",
        "        print(psi,\"PSI = {} pascal\".format(pa))\n",
        "\n",
        "    elif select ==4:\n",
        "        print(\"\\n\\nEnter PSI to convert to atm\")\n",
        "        psi = int(input())\n",
        "        one_psi =  0.068046 # equal to one atm\n",
        "        atm = psi*one_psi\n",
        "        print(psi,\"PSI = {} atm\".format(atm))\n",
        "        \n",
        "    elif select ==5:\n",
        "        print(\"\\n\\nEnter PSI to convert to torr\")\n",
        "        psi = int(input())\n",
        "        one_psi =  51.7149 # torr\n",
        "        torr =psi*one_psi\n",
        "        print(psi,\"pascal = {} torr\".format(torr))\n",
        "        \n",
        "    elif select ==6:\n",
        "        print(\"\\n\\nEnter atm to convert to pascal\")\n",
        "        atm = int(input())\n",
        "        one_atm =  101325 # equal to pascal\n",
        "        pa =atm*one_atm\n",
        "        print(atm,\"atm = {} pascal\".format(pa))\n",
        "\n",
        "    elif select ==7:\n",
        "        print(\"\\n\\nEnter atm to convert to PSI\")\n",
        "        atm = int(input())\n",
        "        one_psi =  14.6959 # equal to pascal\n",
        "        psi=atm*one_psi\n",
        "        print(atm,\"atm = {} PSI\".format(psi))\n",
        "\n",
        "    elif select== 8:\n",
        "        print(\"\\n\\nEnter atm to convert to torr\")\n",
        "        atm = int(input())\n",
        "        one_psi =  51.7149 # torr\n",
        "        torr =psi*one_psi\n",
        "        print(atm,\"atm = {} torr\".format(torr))\n",
        "\n",
        "    elif select ==9:\n",
        "        print(\"\\n\\nEnter torr to convert to pascal\")\n",
        "        torr = int(input())\n",
        "        one_pa =  101325 # equal to pascal\n",
        "        pa =torr*one_pa\n",
        "        print(torr,\"torr = {} pascal\".format(pa))\n",
        "\n",
        "    elif select ==10:\n",
        "        print(\"\\n\\nEnter torr to convert to PSI\")\n",
        "        torr = int(input())\n",
        "        one_psi =  0.0193368# equal to pascal\n",
        "        psi =torr*one_psi\n",
        "        print(torr,\"torr = {} PSI\".format(psi))\n",
        "\n",
        "    else:\n",
        "        print(\"\\n\\nEnter torr to convert to atm\")\n",
        "        torr = int(input())\n",
        "        one_atm = 0.00131579# equal to pascal\n",
        "        atm =torr*one_atm\n",
        "        print(torr,\"torr = {} atm\".format(atm))\n"
      ],
      "metadata": {
        "id": "S9HeDpW7Ooc-"
      },
      "execution_count": null,
      "outputs": []
    },
    {
      "cell_type": "code",
      "source": [
        "# unit_conversion()"
      ],
      "metadata": {
        "id": "zP_rdJArQkxb"
      },
      "execution_count": null,
      "outputs": []
    },
    {
      "cell_type": "markdown",
      "source": [
        "# **Task 4:** \n",
        "Create a function that will calculate the dominant wavelength of radiation released by a\n",
        "body based on the body’s temperature using Wien’s Law. The user should be able to define the\n",
        "units of the output as either centimeters, micrometers, or nanometers. This will require using\n",
        "flow control. (10 Points)\n",
        "![image.png](data:image/png;base64,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)"
      ],
      "metadata": {
        "id": "1_TPON3ngLTw"
      }
    },
    {
      "cell_type": "code",
      "source": [
        "def dominant_wavelenght(tempture, unt ):\n",
        "    peak_wavelnght = \t2.8977719 / tempture\t# Millimeter\n",
        "    \n",
        "    if  unt == \"cm\":\n",
        "        peak_wavelnght = peak_wavelnght/10   #centimeters\n",
        "        return round(peak_wavelnght,5)\n",
        "\n",
        "    elif unt == \"um\":\n",
        "        peak_wavelnght = peak_wavelnght/1000   #micrometers\n",
        "        return round(peak_wavelnght,5)\n",
        "\n",
        "    elif unt == \"nm\":\n",
        "        peak_wavelnght = peak_wavelnght/1e+6   #micrometers\n",
        "        return round(peak_wavelnght,5)\n",
        "    else:\n",
        "\n",
        "        return round(peak_wavelnght,5)  #milimeter\n",
        "\n",
        "         "
      ],
      "metadata": {
        "id": "up0HBqfVPGiy"
      },
      "execution_count": null,
      "outputs": []
    },
    {
      "cell_type": "code",
      "source": [
        "# want to check with any calculator use this link :    https://www.omnicalculator.com/physics/wiens-law\n",
        "\n",
        "\n",
        "dominant_wavelenght(20 ,\"cm\")  # first argument is temperature in kelvin and 2nd argument is string of cm , um, nm, milil "
      ],
      "metadata": {
        "colab": {
          "base_uri": "https://localhost:8080/"
        },
        "id": "4CAhpDqwj6fD",
        "outputId": "b5cbf072-5680-4eba-9b4a-c1e56a492045"
      },
      "execution_count": null,
      "outputs": [
        {
          "output_type": "execute_result",
          "data": {
            "text/plain": [
              "0.01449"
            ]
          },
          "metadata": {},
          "execution_count": 69
        }
      ]
    },
    {
      "cell_type": "markdown",
      "source": [
        "# **Task 5:**\n",
        "Create a function that will calculate the wavelength of electromagnetic radiation if\n",
        "provided the frequency or the frequency if provided the wavelength. The user must provide the\n",
        "frequency in Hz and can provide the wavelength in centimeters, micrometers, or nanometers.\n",
        "The function will need to include control flow and have parameters to specify the mode \n"
      ],
      "metadata": {
        "id": "kgDcafxzny4W"
      }
    },
    {
      "cell_type": "code",
      "source": [
        "# The equation that relates wavelength, frequency, and speed of light is\n",
        "\n",
        "# c = λ ⋅ ν\n",
        "\n",
        "# c = 3.00 × 10 8 m/s (the speed of light in a vacuum) \n",
        "#λ = wavelength in meters ν = frequency in Hertz (Hz) or 1 s or s − 1 .\n",
        "# To find wavelength (λ), the equation is manipulated so that   λ=c/ν\n",
        "\n",
        "\n",
        "\n",
        "def wave_elctromgntic_radtion(freq_Hz =False, wavelenght_mode=False, wavelenght_value=False):\n",
        "    \n",
        "    wave_lngth =0\n",
        "    c = 3.00 * 10**8 # speed of light\n",
        "    if bool(freq_Hz) == True:\n",
        "        # print(\"True\")\n",
        "        wave_lngth = c /freq_Hz  # meter\n",
        "        return round(wave_lngth,5)\n",
        "\n",
        "    if bool(wavelenght_mode) == True:\n",
        "        # print(\"True\")\n",
        "        if wavelenght_mode == \"cm\":\n",
        "            print(\"cm mode active\\n\")\n",
        "            wavelenght_value = wavelenght_value /10 #cm\n",
        "            freq = c/wavelenght_value\n",
        "            return round(freq,5)\n",
        "\n",
        "        if wavelenght_mode == \"um\":\n",
        "            print(\"um mode active\\n\")\n",
        "            wavelenght_value = wavelenght_value /1000 #micrometer\n",
        "            freq = c/wavelenght_value\n",
        "            return round(freq,5)\n",
        "\n",
        "        if wavelenght_mode == \"nm\":\n",
        "            print(\"nm mode active\\n\")\n",
        "            wavelenght_value = wavelenght_value /1e+6   #micrometers\n",
        "            freq = c/wavelenght_value\n",
        "            return round(freq,5)\n",
        "    \n"
      ],
      "metadata": {
        "id": "Ugqqwbb2g1m_"
      },
      "execution_count": null,
      "outputs": []
    },
    {
      "cell_type": "code",
      "source": [
        "# we just want to find Wave lenght by sending frequency in HZ\n",
        "wave_elctromgntic_radtion(freq_Hz = 4.95* 10**5,)"
      ],
      "metadata": {
        "colab": {
          "base_uri": "https://localhost:8080/"
        },
        "id": "VG58PhIEuMXA",
        "outputId": "84073001-10bf-42d1-c048-da7e5a74f7f5"
      },
      "execution_count": null,
      "outputs": [
        {
          "output_type": "stream",
          "name": "stdout",
          "text": [
            "rue\n"
          ]
        },
        {
          "output_type": "execute_result",
          "data": {
            "text/plain": [
              "606.06061"
            ]
          },
          "metadata": {},
          "execution_count": 78
        }
      ]
    },
    {
      "cell_type": "code",
      "source": [
        "# now we want frequency by sending wavelenght in any mode cm, um, nm\n",
        "wave_elctromgntic_radtion(wavelenght_mode =\"nm\", wavelenght_value =0.14489)"
      ],
      "metadata": {
        "colab": {
          "base_uri": "https://localhost:8080/"
        },
        "id": "0O6AmcOLg94E",
        "outputId": "7efc42a6-b655-41fb-b44b-3944b66d08b0"
      },
      "execution_count": null,
      "outputs": [
        {
          "output_type": "stream",
          "name": "stdout",
          "text": [
            "nm mode active\n",
            "\n"
          ]
        },
        {
          "output_type": "execute_result",
          "data": {
            "text/plain": [
              "2070536268893643.5"
            ]
          },
          "metadata": {},
          "execution_count": 84
        }
      ]
    }
  ]
}