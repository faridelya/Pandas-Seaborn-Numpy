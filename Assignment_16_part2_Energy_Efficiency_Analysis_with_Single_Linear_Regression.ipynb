{
  "nbformat": 4,
  "nbformat_minor": 0,
  "metadata": {
    "colab": {
      "provenance": [],
      "collapsed_sections": [],
      "authorship_tag": "ABX9TyP4Ky+d+K4rJ1lpbzT0VAGD",
      "include_colab_link": true
    },
    "kernelspec": {
      "name": "python3",
      "display_name": "Python 3"
    },
    "language_info": {
      "name": "python"
    }
  },
  "cells": [
    {
      "cell_type": "markdown",
      "metadata": {
        "id": "view-in-github",
        "colab_type": "text"
      },
      "source": [
        "<a href=\"https://colab.research.google.com/github/faridelya/Pandas-Seaborn-Numpy/blob/main/Assignment_16_part2_Energy_Efficiency_Analysis_with_Single_Linear_Regression.ipynb\" target=\"_parent\"><img src=\"https://colab.research.google.com/assets/colab-badge.svg\" alt=\"Open In Colab\"/></a>"
      ]
    },
    {
      "cell_type": "code",
      "source": [
        "import pandas as pd\n",
        "import seaborn as sns\n",
        "import matplotlib.pyplot as plt\n",
        "import warnings\n",
        "warnings.filterwarnings('ignore')\n",
        "df = pd.read_csv(\"/content/energy_efficiency_data.csv\")"
      ],
      "metadata": {
        "id": "_0VGDjjw_qfa"
      },
      "execution_count": null,
      "outputs": []
    },
    {
      "cell_type": "markdown",
      "source": [
        "## **Task 1: Extract out only the “Heating_Load”, “Relative_Compactness”, “Wall_Area”,and “Roof_Area” attributes.**"
      ],
      "metadata": {
        "id": "mIUE2kIv8RAh"
      }
    },
    {
      "cell_type": "code",
      "execution_count": null,
      "metadata": {
        "colab": {
          "base_uri": "https://localhost:8080/",
          "height": 423
        },
        "id": "Sk2klv4CxBZr",
        "outputId": "0e6e25cb-0ca6-4ecb-81ef-855d1fc4b551"
      },
      "outputs": [
        {
          "output_type": "execute_result",
          "data": {
            "text/plain": [
              "     Relative_Compactness  Wall_Area  Roof_Area  Heating_Load\n",
              "0                    0.98      294.0     110.25         15.55\n",
              "1                    0.98      294.0     110.25         15.55\n",
              "2                    0.98      294.0     110.25         15.55\n",
              "3                    0.98      294.0     110.25         15.55\n",
              "4                    0.90      318.5     122.50         20.84\n",
              "..                    ...        ...        ...           ...\n",
              "763                  0.64      343.0     220.50         17.88\n",
              "764                  0.62      367.5     220.50         16.54\n",
              "765                  0.62      367.5     220.50         16.44\n",
              "766                  0.62      367.5     220.50         16.48\n",
              "767                  0.62      367.5     220.50         16.64\n",
              "\n",
              "[768 rows x 4 columns]"
            ],
            "text/html": [
              "\n",
              "  <div id=\"df-9ab430c0-a185-4ca2-8186-476c94f3c5e6\">\n",
              "    <div class=\"colab-df-container\">\n",
              "      <div>\n",
              "<style scoped>\n",
              "    .dataframe tbody tr th:only-of-type {\n",
              "        vertical-align: middle;\n",
              "    }\n",
              "\n",
              "    .dataframe tbody tr th {\n",
              "        vertical-align: top;\n",
              "    }\n",
              "\n",
              "    .dataframe thead th {\n",
              "        text-align: right;\n",
              "    }\n",
              "</style>\n",
              "<table border=\"1\" class=\"dataframe\">\n",
              "  <thead>\n",
              "    <tr style=\"text-align: right;\">\n",
              "      <th></th>\n",
              "      <th>Relative_Compactness</th>\n",
              "      <th>Wall_Area</th>\n",
              "      <th>Roof_Area</th>\n",
              "      <th>Heating_Load</th>\n",
              "    </tr>\n",
              "  </thead>\n",
              "  <tbody>\n",
              "    <tr>\n",
              "      <th>0</th>\n",
              "      <td>0.98</td>\n",
              "      <td>294.0</td>\n",
              "      <td>110.25</td>\n",
              "      <td>15.55</td>\n",
              "    </tr>\n",
              "    <tr>\n",
              "      <th>1</th>\n",
              "      <td>0.98</td>\n",
              "      <td>294.0</td>\n",
              "      <td>110.25</td>\n",
              "      <td>15.55</td>\n",
              "    </tr>\n",
              "    <tr>\n",
              "      <th>2</th>\n",
              "      <td>0.98</td>\n",
              "      <td>294.0</td>\n",
              "      <td>110.25</td>\n",
              "      <td>15.55</td>\n",
              "    </tr>\n",
              "    <tr>\n",
              "      <th>3</th>\n",
              "      <td>0.98</td>\n",
              "      <td>294.0</td>\n",
              "      <td>110.25</td>\n",
              "      <td>15.55</td>\n",
              "    </tr>\n",
              "    <tr>\n",
              "      <th>4</th>\n",
              "      <td>0.90</td>\n",
              "      <td>318.5</td>\n",
              "      <td>122.50</td>\n",
              "      <td>20.84</td>\n",
              "    </tr>\n",
              "    <tr>\n",
              "      <th>...</th>\n",
              "      <td>...</td>\n",
              "      <td>...</td>\n",
              "      <td>...</td>\n",
              "      <td>...</td>\n",
              "    </tr>\n",
              "    <tr>\n",
              "      <th>763</th>\n",
              "      <td>0.64</td>\n",
              "      <td>343.0</td>\n",
              "      <td>220.50</td>\n",
              "      <td>17.88</td>\n",
              "    </tr>\n",
              "    <tr>\n",
              "      <th>764</th>\n",
              "      <td>0.62</td>\n",
              "      <td>367.5</td>\n",
              "      <td>220.50</td>\n",
              "      <td>16.54</td>\n",
              "    </tr>\n",
              "    <tr>\n",
              "      <th>765</th>\n",
              "      <td>0.62</td>\n",
              "      <td>367.5</td>\n",
              "      <td>220.50</td>\n",
              "      <td>16.44</td>\n",
              "    </tr>\n",
              "    <tr>\n",
              "      <th>766</th>\n",
              "      <td>0.62</td>\n",
              "      <td>367.5</td>\n",
              "      <td>220.50</td>\n",
              "      <td>16.48</td>\n",
              "    </tr>\n",
              "    <tr>\n",
              "      <th>767</th>\n",
              "      <td>0.62</td>\n",
              "      <td>367.5</td>\n",
              "      <td>220.50</td>\n",
              "      <td>16.64</td>\n",
              "    </tr>\n",
              "  </tbody>\n",
              "</table>\n",
              "<p>768 rows × 4 columns</p>\n",
              "</div>\n",
              "      <button class=\"colab-df-convert\" onclick=\"convertToInteractive('df-9ab430c0-a185-4ca2-8186-476c94f3c5e6')\"\n",
              "              title=\"Convert this dataframe to an interactive table.\"\n",
              "              style=\"display:none;\">\n",
              "        \n",
              "  <svg xmlns=\"http://www.w3.org/2000/svg\" height=\"24px\"viewBox=\"0 0 24 24\"\n",
              "       width=\"24px\">\n",
              "    <path d=\"M0 0h24v24H0V0z\" fill=\"none\"/>\n",
              "    <path d=\"M18.56 5.44l.94 2.06.94-2.06 2.06-.94-2.06-.94-.94-2.06-.94 2.06-2.06.94zm-11 1L8.5 8.5l.94-2.06 2.06-.94-2.06-.94L8.5 2.5l-.94 2.06-2.06.94zm10 10l.94 2.06.94-2.06 2.06-.94-2.06-.94-.94-2.06-.94 2.06-2.06.94z\"/><path d=\"M17.41 7.96l-1.37-1.37c-.4-.4-.92-.59-1.43-.59-.52 0-1.04.2-1.43.59L10.3 9.45l-7.72 7.72c-.78.78-.78 2.05 0 2.83L4 21.41c.39.39.9.59 1.41.59.51 0 1.02-.2 1.41-.59l7.78-7.78 2.81-2.81c.8-.78.8-2.07 0-2.86zM5.41 20L4 18.59l7.72-7.72 1.47 1.35L5.41 20z\"/>\n",
              "  </svg>\n",
              "      </button>\n",
              "      \n",
              "  <style>\n",
              "    .colab-df-container {\n",
              "      display:flex;\n",
              "      flex-wrap:wrap;\n",
              "      gap: 12px;\n",
              "    }\n",
              "\n",
              "    .colab-df-convert {\n",
              "      background-color: #E8F0FE;\n",
              "      border: none;\n",
              "      border-radius: 50%;\n",
              "      cursor: pointer;\n",
              "      display: none;\n",
              "      fill: #1967D2;\n",
              "      height: 32px;\n",
              "      padding: 0 0 0 0;\n",
              "      width: 32px;\n",
              "    }\n",
              "\n",
              "    .colab-df-convert:hover {\n",
              "      background-color: #E2EBFA;\n",
              "      box-shadow: 0px 1px 2px rgba(60, 64, 67, 0.3), 0px 1px 3px 1px rgba(60, 64, 67, 0.15);\n",
              "      fill: #174EA6;\n",
              "    }\n",
              "\n",
              "    [theme=dark] .colab-df-convert {\n",
              "      background-color: #3B4455;\n",
              "      fill: #D2E3FC;\n",
              "    }\n",
              "\n",
              "    [theme=dark] .colab-df-convert:hover {\n",
              "      background-color: #434B5C;\n",
              "      box-shadow: 0px 1px 3px 1px rgba(0, 0, 0, 0.15);\n",
              "      filter: drop-shadow(0px 1px 2px rgba(0, 0, 0, 0.3));\n",
              "      fill: #FFFFFF;\n",
              "    }\n",
              "  </style>\n",
              "\n",
              "      <script>\n",
              "        const buttonEl =\n",
              "          document.querySelector('#df-9ab430c0-a185-4ca2-8186-476c94f3c5e6 button.colab-df-convert');\n",
              "        buttonEl.style.display =\n",
              "          google.colab.kernel.accessAllowed ? 'block' : 'none';\n",
              "\n",
              "        async function convertToInteractive(key) {\n",
              "          const element = document.querySelector('#df-9ab430c0-a185-4ca2-8186-476c94f3c5e6');\n",
              "          const dataTable =\n",
              "            await google.colab.kernel.invokeFunction('convertToInteractive',\n",
              "                                                     [key], {});\n",
              "          if (!dataTable) return;\n",
              "\n",
              "          const docLinkHtml = 'Like what you see? Visit the ' +\n",
              "            '<a target=\"_blank\" href=https://colab.research.google.com/notebooks/data_table.ipynb>data table notebook</a>'\n",
              "            + ' to learn more about interactive tables.';\n",
              "          element.innerHTML = '';\n",
              "          dataTable['output_type'] = 'display_data';\n",
              "          await google.colab.output.renderOutput(dataTable, element);\n",
              "          const docLink = document.createElement('div');\n",
              "          docLink.innerHTML = docLinkHtml;\n",
              "          element.appendChild(docLink);\n",
              "        }\n",
              "      </script>\n",
              "    </div>\n",
              "  </div>\n",
              "  "
            ]
          },
          "metadata": {},
          "execution_count": 2
        }
      ],
      "source": [
        "\n",
        "ex_df = df[['Relative_Compactness', 'Wall_Area', 'Roof_Area', 'Heating_Load']]\n",
        "ex_df"
      ]
    },
    {
      "cell_type": "markdown",
      "source": [
        "## **Task 2: Create scatterplots to compare the dependent variable (“Heat_Load”) with each of the three independent variables separately**"
      ],
      "metadata": {
        "id": "X8Ro-mhIALUP"
      }
    },
    {
      "cell_type": "code",
      "source": [
        "sns.pairplot(ex_df, x_vars=['Relative_Compactness', 'Wall_Area', 'Roof_Area'], \n",
        "             y_vars='Heating_Load', size=4, aspect=1, kind='scatter')\n",
        "plt.show()"
      ],
      "metadata": {
        "colab": {
          "base_uri": "https://localhost:8080/",
          "height": 303
        },
        "id": "_zW1UXZOVX3h",
        "outputId": "659ccfeb-e8d5-45f6-b983-2fe830b2836c"
      },
      "execution_count": null,
      "outputs": [
        {
          "output_type": "display_data",
          "data": {
            "text/plain": [
              "<Figure size 864x288 with 3 Axes>"
            ],
            "image/png": "[encoded data removed]"
          },
          "metadata": {
            "needs_background": "light"
          }
        }
      ]
    },
    {
      "cell_type": "markdown",
      "source": [
        "## **Task 3. Obtain Pearson correlation coefficients for “Heat_Load” and each of the three independent variables of interest**"
      ],
      "metadata": {
        "id": "ea4qXecvNIam"
      }
    },
    {
      "cell_type": "code",
      "source": [
        "ex_df.corr()[['Heating_Load']]"
      ],
      "metadata": {
        "colab": {
          "base_uri": "https://localhost:8080/",
          "height": 175
        },
        "id": "GzOWmPC6Iuym",
        "outputId": "dd23f238-b53f-4207-e1ef-fd33c6729a4a"
      },
      "execution_count": null,
      "outputs": [
        {
          "output_type": "execute_result",
          "data": {
            "text/plain": [
              "                      Heating_Load\n",
              "Relative_Compactness      0.622272\n",
              "Wall_Area                 0.455671\n",
              "Roof_Area                -0.861828\n",
              "Heating_Load              1.000000"
            ],
            "text/html": [
              "\n",
              "  <div id=\"df-f8bf5a4c-0e8a-45c7-bf08-72feb9aef105\">\n",
              "    <div class=\"colab-df-container\">\n",
              "      <div>\n",
              "<style scoped>\n",
              "    .dataframe tbody tr th:only-of-type {\n",
              "        vertical-align: middle;\n",
              "    }\n",
              "\n",
              "    .dataframe tbody tr th {\n",
              "        vertical-align: top;\n",
              "    }\n",
              "\n",
              "    .dataframe thead th {\n",
              "        text-align: right;\n",
              "    }\n",
              "</style>\n",
              "<table border=\"1\" class=\"dataframe\">\n",
              "  <thead>\n",
              "    <tr style=\"text-align: right;\">\n",
              "      <th></th>\n",
              "      <th>Heating_Load</th>\n",
              "    </tr>\n",
              "  </thead>\n",
              "  <tbody>\n",
              "    <tr>\n",
              "      <th>Relative_Compactness</th>\n",
              "      <td>0.622272</td>\n",
              "    </tr>\n",
              "    <tr>\n",
              "      <th>Wall_Area</th>\n",
              "      <td>0.455671</td>\n",
              "    </tr>\n",
              "    <tr>\n",
              "      <th>Roof_Area</th>\n",
              "      <td>-0.861828</td>\n",
              "    </tr>\n",
              "    <tr>\n",
              "      <th>Heating_Load</th>\n",
              "      <td>1.000000</td>\n",
              "    </tr>\n",
              "  </tbody>\n",
              "</table>\n",
              "</div>\n",
              "      <button class=\"colab-df-convert\" onclick=\"convertToInteractive('df-f8bf5a4c-0e8a-45c7-bf08-72feb9aef105')\"\n",
              "              title=\"Convert this dataframe to an interactive table.\"\n",
              "              style=\"display:none;\">\n",
              "        \n",
              "  <svg xmlns=\"http://www.w3.org/2000/svg\" height=\"24px\"viewBox=\"0 0 24 24\"\n",
              "       width=\"24px\">\n",
              "    <path d=\"M0 0h24v24H0V0z\" fill=\"none\"/>\n",
              "    <path d=\"M18.56 5.44l.94 2.06.94-2.06 2.06-.94-2.06-.94-.94-2.06-.94 2.06-2.06.94zm-11 1L8.5 8.5l.94-2.06 2.06-.94-2.06-.94L8.5 2.5l-.94 2.06-2.06.94zm10 10l.94 2.06.94-2.06 2.06-.94-2.06-.94-.94-2.06-.94 2.06-2.06.94z\"/><path d=\"M17.41 7.96l-1.37-1.37c-.4-.4-.92-.59-1.43-.59-.52 0-1.04.2-1.43.59L10.3 9.45l-7.72 7.72c-.78.78-.78 2.05 0 2.83L4 21.41c.39.39.9.59 1.41.59.51 0 1.02-.2 1.41-.59l7.78-7.78 2.81-2.81c.8-.78.8-2.07 0-2.86zM5.41 20L4 18.59l7.72-7.72 1.47 1.35L5.41 20z\"/>\n",
              "  </svg>\n",
              "      </button>\n",
              "      \n",
              "  <style>\n",
              "    .colab-df-container {\n",
              "      display:flex;\n",
              "      flex-wrap:wrap;\n",
              "      gap: 12px;\n",
              "    }\n",
              "\n",
              "    .colab-df-convert {\n",
              "      background-color: #E8F0FE;\n",
              "      border: none;\n",
              "      border-radius: 50%;\n",
              "      cursor: pointer;\n",
              "      display: none;\n",
              "      fill: #1967D2;\n",
              "      height: 32px;\n",
              "      padding: 0 0 0 0;\n",
              "      width: 32px;\n",
              "    }\n",
              "\n",
              "    .colab-df-convert:hover {\n",
              "      background-color: #E2EBFA;\n",
              "      box-shadow: 0px 1px 2px rgba(60, 64, 67, 0.3), 0px 1px 3px 1px rgba(60, 64, 67, 0.15);\n",
              "      fill: #174EA6;\n",
              "    }\n",
              "\n",
              "    [theme=dark] .colab-df-convert {\n",
              "      background-color: #3B4455;\n",
              "      fill: #D2E3FC;\n",
              "    }\n",
              "\n",
              "    [theme=dark] .colab-df-convert:hover {\n",
              "      background-color: #434B5C;\n",
              "      box-shadow: 0px 1px 3px 1px rgba(0, 0, 0, 0.15);\n",
              "      filter: drop-shadow(0px 1px 2px rgba(0, 0, 0, 0.3));\n",
              "      fill: #FFFFFF;\n",
              "    }\n",
              "  </style>\n",
              "\n",
              "      <script>\n",
              "        const buttonEl =\n",
              "          document.querySelector('#df-f8bf5a4c-0e8a-45c7-bf08-72feb9aef105 button.colab-df-convert');\n",
              "        buttonEl.style.display =\n",
              "          google.colab.kernel.accessAllowed ? 'block' : 'none';\n",
              "\n",
              "        async function convertToInteractive(key) {\n",
              "          const element = document.querySelector('#df-f8bf5a4c-0e8a-45c7-bf08-72feb9aef105');\n",
              "          const dataTable =\n",
              "            await google.colab.kernel.invokeFunction('convertToInteractive',\n",
              "                                                     [key], {});\n",
              "          if (!dataTable) return;\n",
              "\n",
              "          const docLinkHtml = 'Like what you see? Visit the ' +\n",
              "            '<a target=\"_blank\" href=https://colab.research.google.com/notebooks/data_table.ipynb>data table notebook</a>'\n",
              "            + ' to learn more about interactive tables.';\n",
              "          element.innerHTML = '';\n",
              "          dataTable['output_type'] = 'display_data';\n",
              "          await google.colab.output.renderOutput(dataTable, element);\n",
              "          const docLink = document.createElement('div');\n",
              "          docLink.innerHTML = docLinkHtml;\n",
              "          element.appendChild(docLink);\n",
              "        }\n",
              "      </script>\n",
              "    </div>\n",
              "  </div>\n",
              "  "
            ]
          },
          "metadata": {},
          "execution_count": 4
        }
      ]
    },
    {
      "cell_type": "markdown",
      "source": [
        "### **Question 6. Discuss the relationships between the dependent variable and each independent variable based on the scatterplots and correlation coefficients obtained. Does each independent variable appear to be correlated with “Heat_Load”? If so, is the correlation positive or negative? Is the correlation linear?**"
      ],
      "metadata": {
        "id": "CTvJE_WMXNLJ"
      }
    },
    {
      "cell_type": "markdown",
      "source": [
        "#### **Answer**\n",
        "\n",
        "we cannot see any kind of trend(increasing/decreasing) in the scatter plot, that means the variables are not correlated with each other except for Relative_Compactness which has moderate positive correlation. \n",
        "\n",
        "## The Following are the answer for Scatter plot.\n",
        "\n",
        "- The **Heating_Load** and  **Relative_Compactness** has **Moderate Positive corelation**  we has got 0.622 value for pearson correlation.\n",
        "\n",
        "- The **Heating_Load** and  **Wall_Area** has **low Positive corelation** as we has got 0.455 value for pearson correlation.\n",
        "\n",
        "- The **Heating_Load** and  **Roof_Area** has **High Negative correlation** as we has got -0.861 value for pearson correlation\n",
        "\n",
        "![image.png](data:image/png;base64,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)\n",
        "\n",
        "**There is no linear trend**"
      ],
      "metadata": {
        "id": "BEepwHQtXd6o"
      }
    },
    {
      "cell_type": "markdown",
      "source": [
        "## **Task 3. Create three separate single linear regression models in which “Heat_Load” is predicted using one of the available predictor variables.**"
      ],
      "metadata": {
        "id": "Xax3WTHlT78m"
      }
    },
    {
      "cell_type": "code",
      "source": [
        "#we are not spliting data into train and test set as per given instruction in assignment task 4\n",
        "\n",
        "# Independent feature or input variables\n",
        "x = ex_df['Relative_Compactness']\n",
        "x2= ex_df['Wall_Area']\n",
        "x3 = ex_df['Roof_Area']\n",
        "\n",
        "# target variable or dependent variable\n",
        "y= ex_df['Heating_Load']\n",
        "\n",
        "# Shape of the train set without adding column\n",
        "print(x.shape)\n",
        "print(x2.shape)\n",
        "print(x3.shape)\n",
        "\n",
        "# Adding additional column to the train and test data\n",
        "X_train = x.values.reshape(-1,1)\n",
        "X2_train = x2.values.reshape(-1,1)\n",
        "X3_train = x3.values.reshape(-1,1)\n",
        "\n",
        "print(\"pepared structure need for sklearn\",X_train.shape)\n",
        "print(\"pepared structure need for sklearn\",X2_train.shape)\n",
        "print(\"pepared structure need for sklearn\",X3_train.shape)"
      ],
      "metadata": {
        "colab": {
          "base_uri": "https://localhost:8080/"
        },
        "id": "p6K16DwDUAWT",
        "outputId": "f5f86368-6437-4fab-a130-596c49f5a766"
      },
      "execution_count": null,
      "outputs": [
        {
          "output_type": "stream",
          "name": "stdout",
          "text": [
            "(768,)\n",
            "(768,)\n",
            "(768,)\n",
            "pepared structure need for sklearn (768, 1)\n",
            "pepared structure need for sklearn (768, 1)\n",
            "pepared structure need for sklearn (768, 1)\n"
          ]
        }
      ]
    },
    {
      "cell_type": "code",
      "source": [
        "from sklearn.linear_model import LinearRegression\n",
        "\n",
        "def train_model(x,y):\n",
        "\n",
        "    # Creating an object of Linear Regression\n",
        "    linear_model = LinearRegression()\n",
        "\n",
        "    # Fit the model using .fit() method\n",
        "    model = linear_model.fit(x, y)\n",
        "    print(\"Trained \")\n",
        "    return model\n",
        "\n",
        "model1 = train_model(X_train,y)  # train for  Relative_Compactness and Heating_Load\n",
        "model2 = train_model(X2_train,y) # train for Wall_Area and Heating_Load\n",
        "model3 = train_model(X3_train,y) # train for Roof_Area and Heating_Load"
      ],
      "metadata": {
        "colab": {
          "base_uri": "https://localhost:8080/"
        },
        "id": "RR4_23h9nBB9",
        "outputId": "fd16eab5-1872-4c63-d163-4303e8519046"
      },
      "execution_count": null,
      "outputs": [
        {
          "output_type": "stream",
          "name": "stdout",
          "text": [
            "Trained \n",
            "Trained \n",
            "Trained \n"
          ]
        }
      ]
    },
    {
      "cell_type": "code",
      "source": [
        "# Intercept value\n",
        "print(\"Intercept of model1 :\",model1.intercept_)\n",
        "print(\"Intercept of model2 :\",model2.intercept_)\n",
        "print(\"Intercept of model3 :\",model3.intercept_)\n",
        "# Slope value\n",
        "print('\\nSlope of model1  :',model1.coef_)\n",
        "print('Slope of model2 :',model2.coef_)\n",
        "print('Slope of model3 :',model3.coef_)\n",
        "\n",
        "print('\\nScore of model1  :',model1.score(X_train,y))\n",
        "print('Score of model2 :',model2.score(X2_train,y))\n",
        "print('Score of model3 :',model3.score(X3_train,y))"
      ],
      "metadata": {
        "colab": {
          "base_uri": "https://localhost:8080/"
        },
        "id": "DUgEOolOpX2V",
        "outputId": "36241d7d-7061-4292-ded4-5567162c8203"
      },
      "execution_count": null,
      "outputs": [
        {
          "output_type": "stream",
          "name": "stdout",
          "text": [
            "Intercept of model1 : -23.052989559381018\n",
            "Intercept of model2 : -11.259633360745624\n",
            "Intercept of model3 : 56.30964282289001\n",
            "\n",
            "Slope of model1  : [59.35902737]\n",
            "Slope of model2 : [0.10539037]\n",
            "Slope of model3 : [-0.19253477]\n",
            "\n",
            "Score of model1  : 0.3872226648378837\n",
            "Score of model2 : 0.20763620322904386\n",
            "Score of model3 : 0.7427479375067012\n"
          ]
        }
      ]
    },
    {
      "cell_type": "markdown",
      "source": [
        "###### **with stats module**"
      ],
      "metadata": {
        "id": "HVzbR9Cd0MBV"
      }
    },
    {
      "cell_type": "code",
      "source": [
        "import statsmodels.api as sm \n",
        "X = sm.add_constant(x) \n",
        "est = sm.OLS(y, x).fit() \n",
        "est.summary()"
      ],
      "metadata": {
        "colab": {
          "base_uri": "https://localhost:8080/",
          "height": 444
        },
        "id": "cgAVQzA00D9l",
        "outputId": "fa5a7a12-0099-497d-e665-5a12ae807499"
      },
      "execution_count": null,
      "outputs": [
        {
          "output_type": "execute_result",
          "data": {
            "text/plain": [
              "<class 'statsmodels.iolib.summary.Summary'>\n",
              "\"\"\"\n",
              "                                 OLS Regression Results                                \n",
              "=======================================================================================\n",
              "Dep. Variable:           Heating_Load   R-squared (uncentered):                   0.879\n",
              "Model:                            OLS   Adj. R-squared (uncentered):              0.879\n",
              "Method:                 Least Squares   F-statistic:                              5592.\n",
              "Date:                Sun, 06 Nov 2022   Prob (F-statistic):                        0.00\n",
              "Time:                        21:20:06   Log-Likelihood:                         -2733.5\n",
              "No. Observations:                 768   AIC:                                      5469.\n",
              "Df Residuals:                     767   BIC:                                      5474.\n",
              "Df Model:                           1                                                  \n",
              "Covariance Type:            nonrobust                                                  \n",
              "========================================================================================\n",
              "                           coef    std err          t      P>|t|      [0.025      0.975]\n",
              "----------------------------------------------------------------------------------------\n",
              "Relative_Compactness    29.7580      0.398     74.779      0.000      28.977      30.539\n",
              "==============================================================================\n",
              "Omnibus:                       58.224   Durbin-Watson:                   0.243\n",
              "Prob(Omnibus):                  0.000   Jarque-Bera (JB):               60.335\n",
              "Skew:                           0.642   Prob(JB):                     7.92e-14\n",
              "Kurtosis:                       2.515   Cond. No.                         1.00\n",
              "==============================================================================\n",
              "\n",
              "Notes:\n",
              "[1] R² is computed without centering (uncentered) since the model does not contain a constant.\n",
              "[2] Standard Errors assume that the covariance matrix of the errors is correctly specified.\n",
              "\"\"\""
            ],
            "text/html": [
              "<table class=\"simpletable\">\n",
              "<caption>OLS Regression Results</caption>\n",
              "<tr>\n",
              "  <th>Dep. Variable:</th>      <td>Heating_Load</td>   <th>  R-squared (uncentered):</th>      <td>   0.879</td>\n",
              "</tr>\n",
              "<tr>\n",
              "  <th>Model:</th>                   <td>OLS</td>       <th>  Adj. R-squared (uncentered):</th> <td>   0.879</td>\n",
              "</tr>\n",
              "<tr>\n",
              "  <th>Method:</th>             <td>Least Squares</td>  <th>  F-statistic:       </th>          <td>   5592.</td>\n",
              "</tr>\n",
              "<tr>\n",
              "  <th>Date:</th>             <td>Sun, 06 Nov 2022</td> <th>  Prob (F-statistic):</th>           <td>  0.00</td> \n",
              "</tr>\n",
              "<tr>\n",
              "  <th>Time:</th>                 <td>21:20:06</td>     <th>  Log-Likelihood:    </th>          <td> -2733.5</td>\n",
              "</tr>\n",
              "<tr>\n",
              "  <th>No. Observations:</th>      <td>   768</td>      <th>  AIC:               </th>          <td>   5469.</td>\n",
              "</tr>\n",
              "<tr>\n",
              "  <th>Df Residuals:</th>          <td>   767</td>      <th>  BIC:               </th>          <td>   5474.</td>\n",
              "</tr>\n",
              "<tr>\n",
              "  <th>Df Model:</th>              <td>     1</td>      <th>                     </th>              <td> </td>   \n",
              "</tr>\n",
              "<tr>\n",
              "  <th>Covariance Type:</th>      <td>nonrobust</td>    <th>                     </th>              <td> </td>   \n",
              "</tr>\n",
              "</table>\n",
              "<table class=\"simpletable\">\n",
              "<tr>\n",
              "            <td></td>              <th>coef</th>     <th>std err</th>      <th>t</th>      <th>P>|t|</th>  <th>[0.025</th>    <th>0.975]</th>  \n",
              "</tr>\n",
              "<tr>\n",
              "  <th>Relative_Compactness</th> <td>   29.7580</td> <td>    0.398</td> <td>   74.779</td> <td> 0.000</td> <td>   28.977</td> <td>   30.539</td>\n",
              "</tr>\n",
              "</table>\n",
              "<table class=\"simpletable\">\n",
              "<tr>\n",
              "  <th>Omnibus:</th>       <td>58.224</td> <th>  Durbin-Watson:     </th> <td>   0.243</td>\n",
              "</tr>\n",
              "<tr>\n",
              "  <th>Prob(Omnibus):</th> <td> 0.000</td> <th>  Jarque-Bera (JB):  </th> <td>  60.335</td>\n",
              "</tr>\n",
              "<tr>\n",
              "  <th>Skew:</th>          <td> 0.642</td> <th>  Prob(JB):          </th> <td>7.92e-14</td>\n",
              "</tr>\n",
              "<tr>\n",
              "  <th>Kurtosis:</th>      <td> 2.515</td> <th>  Cond. No.          </th> <td>    1.00</td>\n",
              "</tr>\n",
              "</table><br/><br/>Notes:<br/>[1] R² is computed without centering (uncentered) since the model does not contain a constant.<br/>[2] Standard Errors assume that the covariance matrix of the errors is correctly specified."
            ]
          },
          "metadata": {},
          "execution_count": 14
        }
      ]
    },
    {
      "cell_type": "code",
      "source": [
        "import statsmodels.api as sm \n",
        "X = sm.add_constant(x2) \n",
        "est = sm.OLS(y, x2).fit() \n",
        "est.summary()"
      ],
      "metadata": {
        "colab": {
          "base_uri": "https://localhost:8080/",
          "height": 444
        },
        "id": "z2D_3ddp0UsY",
        "outputId": "d45e7cff-0893-4324-d909-320883c13125"
      },
      "execution_count": null,
      "outputs": [
        {
          "output_type": "execute_result",
          "data": {
            "text/plain": [
              "<class 'statsmodels.iolib.summary.Summary'>\n",
              "\"\"\"\n",
              "                                 OLS Regression Results                                \n",
              "=======================================================================================\n",
              "Dep. Variable:           Heating_Load   R-squared (uncentered):                   0.862\n",
              "Model:                            OLS   Adj. R-squared (uncentered):              0.861\n",
              "Method:                 Least Squares   F-statistic:                              4778.\n",
              "Date:                Sun, 06 Nov 2022   Prob (F-statistic):                        0.00\n",
              "Time:                        21:21:09   Log-Likelihood:                         -2786.1\n",
              "No. Observations:                 768   AIC:                                      5574.\n",
              "Df Residuals:                     767   BIC:                                      5579.\n",
              "Df Model:                           1                                                  \n",
              "Covariance Type:            nonrobust                                                  \n",
              "==============================================================================\n",
              "                 coef    std err          t      P>|t|      [0.025      0.975]\n",
              "------------------------------------------------------------------------------\n",
              "Wall_Area      0.0707      0.001     69.121      0.000       0.069       0.073\n",
              "==============================================================================\n",
              "Omnibus:                     1080.494   Durbin-Watson:                   0.192\n",
              "Prob(Omnibus):                  0.000   Jarque-Bera (JB):               60.351\n",
              "Skew:                           0.255   Prob(JB):                     7.85e-14\n",
              "Kurtosis:                       1.725   Cond. No.                         1.00\n",
              "==============================================================================\n",
              "\n",
              "Notes:\n",
              "[1] R² is computed without centering (uncentered) since the model does not contain a constant.\n",
              "[2] Standard Errors assume that the covariance matrix of the errors is correctly specified.\n",
              "\"\"\""
            ],
            "text/html": [
              "<table class=\"simpletable\">\n",
              "<caption>OLS Regression Results</caption>\n",
              "<tr>\n",
              "  <th>Dep. Variable:</th>      <td>Heating_Load</td>   <th>  R-squared (uncentered):</th>      <td>   0.862</td>\n",
              "</tr>\n",
              "<tr>\n",
              "  <th>Model:</th>                   <td>OLS</td>       <th>  Adj. R-squared (uncentered):</th> <td>   0.861</td>\n",
              "</tr>\n",
              "<tr>\n",
              "  <th>Method:</th>             <td>Least Squares</td>  <th>  F-statistic:       </th>          <td>   4778.</td>\n",
              "</tr>\n",
              "<tr>\n",
              "  <th>Date:</th>             <td>Sun, 06 Nov 2022</td> <th>  Prob (F-statistic):</th>           <td>  0.00</td> \n",
              "</tr>\n",
              "<tr>\n",
              "  <th>Time:</th>                 <td>21:21:09</td>     <th>  Log-Likelihood:    </th>          <td> -2786.1</td>\n",
              "</tr>\n",
              "<tr>\n",
              "  <th>No. Observations:</th>      <td>   768</td>      <th>  AIC:               </th>          <td>   5574.</td>\n",
              "</tr>\n",
              "<tr>\n",
              "  <th>Df Residuals:</th>          <td>   767</td>      <th>  BIC:               </th>          <td>   5579.</td>\n",
              "</tr>\n",
              "<tr>\n",
              "  <th>Df Model:</th>              <td>     1</td>      <th>                     </th>              <td> </td>   \n",
              "</tr>\n",
              "<tr>\n",
              "  <th>Covariance Type:</th>      <td>nonrobust</td>    <th>                     </th>              <td> </td>   \n",
              "</tr>\n",
              "</table>\n",
              "<table class=\"simpletable\">\n",
              "<tr>\n",
              "      <td></td>         <th>coef</th>     <th>std err</th>      <th>t</th>      <th>P>|t|</th>  <th>[0.025</th>    <th>0.975]</th>  \n",
              "</tr>\n",
              "<tr>\n",
              "  <th>Wall_Area</th> <td>    0.0707</td> <td>    0.001</td> <td>   69.121</td> <td> 0.000</td> <td>    0.069</td> <td>    0.073</td>\n",
              "</tr>\n",
              "</table>\n",
              "<table class=\"simpletable\">\n",
              "<tr>\n",
              "  <th>Omnibus:</th>       <td>1080.494</td> <th>  Durbin-Watson:     </th> <td>   0.192</td>\n",
              "</tr>\n",
              "<tr>\n",
              "  <th>Prob(Omnibus):</th>  <td> 0.000</td>  <th>  Jarque-Bera (JB):  </th> <td>  60.351</td>\n",
              "</tr>\n",
              "<tr>\n",
              "  <th>Skew:</th>           <td> 0.255</td>  <th>  Prob(JB):          </th> <td>7.85e-14</td>\n",
              "</tr>\n",
              "<tr>\n",
              "  <th>Kurtosis:</th>       <td> 1.725</td>  <th>  Cond. No.          </th> <td>    1.00</td>\n",
              "</tr>\n",
              "</table><br/><br/>Notes:<br/>[1] R² is computed without centering (uncentered) since the model does not contain a constant.<br/>[2] Standard Errors assume that the covariance matrix of the errors is correctly specified."
            ]
          },
          "metadata": {},
          "execution_count": 15
        }
      ]
    },
    {
      "cell_type": "code",
      "source": [
        "import statsmodels.api as sm \n",
        "X = sm.add_constant(x3) \n",
        "est = sm.OLS(y, x3).fit() \n",
        "est.summary()"
      ],
      "metadata": {
        "colab": {
          "base_uri": "https://localhost:8080/",
          "height": 444
        },
        "id": "nHFfDxt-0Y8N",
        "outputId": "f48f7831-9219-4138-bede-92b05f065fbd"
      },
      "execution_count": null,
      "outputs": [
        {
          "output_type": "execute_result",
          "data": {
            "text/plain": [
              "<class 'statsmodels.iolib.summary.Summary'>\n",
              "\"\"\"\n",
              "                                 OLS Regression Results                                \n",
              "=======================================================================================\n",
              "Dep. Variable:           Heating_Load   R-squared (uncentered):                   0.632\n",
              "Model:                            OLS   Adj. R-squared (uncentered):              0.631\n",
              "Method:                 Least Squares   F-statistic:                              1317.\n",
              "Date:                Sun, 06 Nov 2022   Prob (F-statistic):                   1.23e-168\n",
              "Time:                        21:21:48   Log-Likelihood:                         -3161.9\n",
              "No. Observations:                 768   AIC:                                      6326.\n",
              "Df Residuals:                     767   BIC:                                      6330.\n",
              "Df Model:                           1                                                  \n",
              "Covariance Type:            nonrobust                                                  \n",
              "==============================================================================\n",
              "                 coef    std err          t      P>|t|      [0.025      0.975]\n",
              "------------------------------------------------------------------------------\n",
              "Roof_Area      0.1068      0.003     36.289      0.000       0.101       0.113\n",
              "==============================================================================\n",
              "Omnibus:                     4313.458   Durbin-Watson:                   0.195\n",
              "Prob(Omnibus):                  0.000   Jarque-Bera (JB):               89.249\n",
              "Skew:                           0.195   Prob(JB):                     4.17e-20\n",
              "Kurtosis:                       1.376   Cond. No.                         1.00\n",
              "==============================================================================\n",
              "\n",
              "Notes:\n",
              "[1] R² is computed without centering (uncentered) since the model does not contain a constant.\n",
              "[2] Standard Errors assume that the covariance matrix of the errors is correctly specified.\n",
              "\"\"\""
            ],
            "text/html": [
              "<table class=\"simpletable\">\n",
              "<caption>OLS Regression Results</caption>\n",
              "<tr>\n",
              "  <th>Dep. Variable:</th>      <td>Heating_Load</td>   <th>  R-squared (uncentered):</th>      <td>   0.632</td> \n",
              "</tr>\n",
              "<tr>\n",
              "  <th>Model:</th>                   <td>OLS</td>       <th>  Adj. R-squared (uncentered):</th> <td>   0.631</td> \n",
              "</tr>\n",
              "<tr>\n",
              "  <th>Method:</th>             <td>Least Squares</td>  <th>  F-statistic:       </th>          <td>   1317.</td> \n",
              "</tr>\n",
              "<tr>\n",
              "  <th>Date:</th>             <td>Sun, 06 Nov 2022</td> <th>  Prob (F-statistic):</th>          <td>1.23e-168</td>\n",
              "</tr>\n",
              "<tr>\n",
              "  <th>Time:</th>                 <td>21:21:48</td>     <th>  Log-Likelihood:    </th>          <td> -3161.9</td> \n",
              "</tr>\n",
              "<tr>\n",
              "  <th>No. Observations:</th>      <td>   768</td>      <th>  AIC:               </th>          <td>   6326.</td> \n",
              "</tr>\n",
              "<tr>\n",
              "  <th>Df Residuals:</th>          <td>   767</td>      <th>  BIC:               </th>          <td>   6330.</td> \n",
              "</tr>\n",
              "<tr>\n",
              "  <th>Df Model:</th>              <td>     1</td>      <th>                     </th>              <td> </td>    \n",
              "</tr>\n",
              "<tr>\n",
              "  <th>Covariance Type:</th>      <td>nonrobust</td>    <th>                     </th>              <td> </td>    \n",
              "</tr>\n",
              "</table>\n",
              "<table class=\"simpletable\">\n",
              "<tr>\n",
              "      <td></td>         <th>coef</th>     <th>std err</th>      <th>t</th>      <th>P>|t|</th>  <th>[0.025</th>    <th>0.975]</th>  \n",
              "</tr>\n",
              "<tr>\n",
              "  <th>Roof_Area</th> <td>    0.1068</td> <td>    0.003</td> <td>   36.289</td> <td> 0.000</td> <td>    0.101</td> <td>    0.113</td>\n",
              "</tr>\n",
              "</table>\n",
              "<table class=\"simpletable\">\n",
              "<tr>\n",
              "  <th>Omnibus:</th>       <td>4313.458</td> <th>  Durbin-Watson:     </th> <td>   0.195</td>\n",
              "</tr>\n",
              "<tr>\n",
              "  <th>Prob(Omnibus):</th>  <td> 0.000</td>  <th>  Jarque-Bera (JB):  </th> <td>  89.249</td>\n",
              "</tr>\n",
              "<tr>\n",
              "  <th>Skew:</th>           <td> 0.195</td>  <th>  Prob(JB):          </th> <td>4.17e-20</td>\n",
              "</tr>\n",
              "<tr>\n",
              "  <th>Kurtosis:</th>       <td> 1.376</td>  <th>  Cond. No.          </th> <td>    1.00</td>\n",
              "</tr>\n",
              "</table><br/><br/>Notes:<br/>[1] R² is computed without centering (uncentered) since the model does not contain a constant.<br/>[2] Standard Errors assume that the covariance matrix of the errors is correctly specified."
            ]
          },
          "metadata": {},
          "execution_count": 16
        }
      ]
    },
    {
      "cell_type": "markdown",
      "source": [
        "## **Task 4. Calculate or obtain the R-squared and RMSE metrics for each of the three models. Note that you do not need to separate the data into separate training and testing sets in this assignment. So, you can just predict back to the data used to create the models.**"
      ],
      "metadata": {
        "id": "vDDqWhOgQgeb"
      }
    },
    {
      "cell_type": "code",
      "source": [
        "import numpy as np\n",
        "from sklearn.metrics import r2_score\n",
        "from sklearn.metrics import mean_squared_error as mse\n",
        "# Making Predictions of y_value\n",
        "y1_train_pred = model1.predict(X_train)\n",
        "y2_train_pred = model2.predict(X_train)\n",
        "y3_train_pred = model3.predict(X_train)\n",
        "\n",
        "\n",
        "# Comparing the r2 value of train  data as we have no test data like we did not split data\n",
        "print(\"r2 score of model1\",r2_score(y,y1_train_pred))# this model has moderate result but not good becasue this data was 0.62 corrleation with target and below two were nothing\n",
        "print(\"r2 score of model2\",r2_score(y,y2_train_pred))\n",
        "print(\"r2 score of model3\",r2_score(y,y3_train_pred))\n",
        "\n",
        "print(\"\\n\\nRMSE score of model1\",np.sqrt(mse(y,y1_train_pred)))\n",
        "print(\"RMSE score of model2\",np.sqrt(mse(y,y2_train_pred)))\n",
        "print(\"RMSE score of model3\",np.sqrt(mse(y,y3_train_pred)))\n"
      ],
      "metadata": {
        "id": "yRLBeIDuPLzW",
        "colab": {
          "base_uri": "https://localhost:8080/"
        },
        "outputId": "154a8a90-a520-4f01-c100-a348bb7f6a55"
      },
      "execution_count": null,
      "outputs": [
        {
          "output_type": "stream",
          "name": "stdout",
          "text": [
            "r2 score of model1 0.3872226648378837\n",
            "r2 score of model2 -11.026732719995486\n",
            "r2 score of model3 -11.275018986339669\n",
            "\n",
            "\n",
            "RMSE score of model1 7.893470852831352\n",
            "RMSE score of model2 34.96958613949768\n",
            "RMSE score of model3 35.32870750185071\n"
          ]
        }
      ]
    },
    {
      "cell_type": "markdown",
      "source": [
        "## **Question 7. Compare the model fit using R-squared and RMSE. Do the model results agree with the results obtained using the scatterplots and Pearson correlation coefficients? In other words, did the variable with the highest linear correlation yield the best performing model?**"
      ],
      "metadata": {
        "id": "UUVwaImGuGFC"
      }
    },
    {
      "cell_type": "markdown",
      "source": [
        "### **Answere**\n",
        "## **Comparing R2 score and RMSE score**\n",
        "- The RMSE value tells us that the average deviation between the predicted **Heating_Load** made by the model and the actual **Relative_Compactness**.\n",
        "\n",
        "- The R2 value tells us that the predictor variables in the model (**Relative_Compactness**) are able to explain 38.7% of the variation in the **Heating_Load** \n",
        "- We can see that the RMSE value for **model2** is greater than the previous **model1**. We can also see that the R2 value for  **model2 and modle3** is less than the previous model1. This tells us that these model fits the data worse than the **previous model1**.\n",
        "\n"
      ],
      "metadata": {
        "id": "225C6Dolwgz7"
      }
    },
    {
      "cell_type": "code",
      "source": [
        "pred1 = pd.DataFrame(y1_train_pred, columns=[\"model1_predic\"]) # predicted target values from model 1\n",
        "pred2 = pd.DataFrame(y2_train_pred, columns=[\"model2_predic\"] ) #predicted target values from model 2\n",
        "pred3 = pd.DataFrame(y3_train_pred,  columns=[\"model3_predic\"] )# predicted target values from model 3\n",
        "dff = pd.concat([pred1,pred2,pred3])\n",
        "# correlation for predicted variable with actual input variable\n",
        "\n",
        "print(\"modle1 predicted target correlation with  Relative_Compactness \",ex_df[ex_df.columns[0]].corr(dff['model1_predic']))\n",
        "print(\"modle2 predicted target correlation with Wall Area \", ex_df[ex_df.columns[1]].corr(dff['model2_predic']))\n",
        "print(\"modle3 predicted target correlation with Roof Area \",ex_df[ex_df.columns[2]].corr(dff['model3_predic']))"
      ],
      "metadata": {
        "colab": {
          "base_uri": "https://localhost:8080/"
        },
        "id": "-C2Gf9aYsxaS",
        "outputId": "c6217bfb-d4f5-432c-ddfc-b467ed581a6f"
      },
      "execution_count": null,
      "outputs": [
        {
          "output_type": "stream",
          "name": "stdout",
          "text": [
            "modle1 predicted target correlation with  Relative_Compactness  1.0\n",
            "modle2 predicted target correlation with Wall Area  -0.2037816803210471\n",
            "modle3 predicted target correlation with Roof Area  0.8688234077044722\n"
          ]
        }
      ]
    },
    {
      "cell_type": "code",
      "source": [
        "# after prediction scatterplot\n",
        "from matplotlib import gridspec \n",
        "f = plt.figure(figsize=(8,5))\n",
        "gs = gridspec.GridSpec(2, 4)\n",
        "gs.update(wspace=10)\n",
        "ax1 = f.add_subplot(gs[0, :2] )\n",
        "ax2 = f.add_subplot(gs[0, 2:])\n",
        "ax3 = f.add_subplot(gs[1, 1:3])\n",
        "sns.scatterplot(ex_df['Relative_Compactness'],pred1['model1_predic'],ax=ax1)\n",
        "sns.scatterplot(ex_df['Wall_Area'],pred2['model2_predic'],ax=ax2)\n",
        "sns.scatterplot(ex_df['Roof_Area'],pred3['model3_predic'] ,ax=ax3)\n",
        "plt.show();"
      ],
      "metadata": {
        "colab": {
          "base_uri": "https://localhost:8080/",
          "height": 335
        },
        "id": "r2o34qqG0-ZX",
        "outputId": "1d358c35-8b57-4135-cbe9-6c86443b624e"
      },
      "execution_count": null,
      "outputs": [
        {
          "output_type": "display_data",
          "data": {
            "text/plain": [
              "<Figure size 576x360 with 3 Axes>"
            ],
            "image/png": "[encoded data removed]"
          },
          "metadata": {
            "needs_background": "light"
          }
        }
      ]
    },
    {
      "cell_type": "markdown",
      "source": [
        "- Yes the highest correlation variable in this case performing good as compared to other as we can see in first plot the relation is positive.\n",
        "- The above other Scatter Plots shows  different veiw one is showing negative and other show no trend so we can say that model is not trained well or not set best fit line. because dependent variable was not high correlated with their independent variable. "
      ],
      "metadata": {
        "id": "VrrRY5Cy4_8q"
      }
    }
  ]
}